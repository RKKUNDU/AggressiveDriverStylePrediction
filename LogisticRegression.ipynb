{
  "nbformat": 4,
  "nbformat_minor": 0,
  "metadata": {
    "colab": {
      "name": "LogisticRegression.ipynb",
      "provenance": [],
      "authorship_tag": "ABX9TyODj8Qr6dLiEOw+Vkqhyn47"
    },
    "kernelspec": {
      "name": "python3",
      "display_name": "Python 3"
    }
  },
  "cells": [
    {
      "cell_type": "code",
      "metadata": {
        "id": "rDpSsOJEZfaj"
      },
      "source": [
        "from sklearn.linear_model import LogisticRegression\n",
        "from sklearn.model_selection import train_test_split\n",
        "from sklearn.preprocessing import StandardScaler, MinMaxScaler\n",
        "from sklearn.metrics import mean_squared_error,accuracy_score\n",
        "from sklearn.metrics import classification_report, confusion_matrix\n",
        "from sklearn.neural_network import MLPClassifier, MLPRegressor\n",
        "from sklearn.ensemble import RandomForestClassifier\n",
        "from sklearn.model_selection import GridSearchCV\n",
        "import numpy as np\n",
        "import pandas as pd "
      ],
      "execution_count": 1,
      "outputs": []
    },
    {
      "cell_type": "code",
      "metadata": {
        "id": "qjiMQVbPBPLk"
      },
      "source": [
        "from google.colab import drive\n",
        "drive.mount('/content/gdrive')"
      ],
      "execution_count": null,
      "outputs": []
    },
    {
      "cell_type": "code",
      "metadata": {
        "id": "tQ0L64draHcV"
      },
      "source": [
        "df = pd.read_csv('/content/gdrive/My Drive/ProjectData/10_features_in_one_row.csv')\n",
        "\n",
        "# Drop rows with NA values\n",
        "df = df.dropna(axis = 0)\n",
        "\n",
        "# Divide dataset into input features, output labels\n",
        "X, y = df.drop(['Unnamed: 0', 'DrivingStyle', 'DriverID'], axis = 1), df['DrivingStyle']\n",
        "#X, y = df.drop(['DrivingStyle', 'DriverID'], axis = 1), df['DrivingStyle']\n",
        "\n",
        "# encoding categorical values\n",
        "X = pd.get_dummies(X)\n",
        "\n",
        "scaler = StandardScaler()\n",
        "scaler.fit(X)\n",
        "X = scaler.transform(X)\n",
        "\n",
        "# split dataset into train & test\n",
        "X_train, X_test, y_train, y_test = train_test_split(X, y, test_size=0.80, shuffle = True, random_state=42)"
      ],
      "execution_count": null,
      "outputs": []
    },
    {
      "cell_type": "code",
      "metadata": {
        "id": "OplI2ykRrjes"
      },
      "source": [
        "#parameter selection\n",
        "penalty=['l1','l2','elasticnet']\n",
        "solver=['newton-cg','lbfgs','liblinear','sag','saga']\n",
        "max_iter=[n for n in range(100,1000,100)]\n",
        "param_grid={\n",
        "    'penalty':penalty,\n",
        "    'solver':solver,\n",
        "    'max_iter':max_iter\n",
        "}\n",
        "print(param_grid)"
      ],
      "execution_count": null,
      "outputs": []
    },
    {
      "cell_type": "code",
      "metadata": {
        "id": "P5qujE9jbFDX"
      },
      "source": [
        "#print(X_train.shape)\n",
        "logreg=LogisticRegression()\n",
        "Grid_log_reg=GridSearchCV(estimator=logreg,param_grid=param_grid,cv=5,n_jobs=10,verbose=2)\n",
        "Grid_log_reg.fit(X_train,y_train)\n",
        "y_pred=Grid_log_reg.predict(X_test)"
      ],
      "execution_count": null,
      "outputs": []
    },
    {
      "cell_type": "code",
      "metadata": {
        "id": "tiRAPqnq9AAC"
      },
      "source": [
        "print(Grid_log_reg.best_estimator_)\n",
        "error=Grid_log_reg.best_score_\n",
        "print(error)"
      ],
      "execution_count": null,
      "outputs": []
    }
  ]
}