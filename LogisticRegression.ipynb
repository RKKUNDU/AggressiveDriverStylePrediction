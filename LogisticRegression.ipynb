{
  "nbformat": 4,
  "nbformat_minor": 0,
  "metadata": {
    "colab": {
      "name": "LogisticRegression.ipynb",
      "provenance": [],
      "authorship_tag": "ABX9TyNib7YcvrpUn9KYCn/tReoo"
    },
    "kernelspec": {
      "name": "python3",
      "display_name": "Python 3"
    }
  },
  "cells": [
    {
      "cell_type": "code",
      "metadata": {
        "id": "rDpSsOJEZfaj"
      },
      "source": [
        "from sklearn.linear_model import LogisticRegression\n",
        "from sklearn.model_selection import train_test_split\n",
        "from sklearn.preprocessing import StandardScaler, MinMaxScaler\n",
        "from sklearn.metrics import mean_squared_error,accuracy_score\n",
        "from sklearn.metrics import classification_report, confusion_matrix\n",
        "from sklearn.neural_network import MLPClassifier, MLPRegressor\n",
        "from sklearn.ensemble import RandomForestClassifier\n",
        "from sklearn.model_selection import GridSearchCV\n",
        "import numpy as np\n",
        "import pandas as pd "
      ],
      "execution_count": 1,
      "outputs": []
    },
    {
      "cell_type": "code",
      "metadata": {
        "colab": {
          "base_uri": "https://localhost:8080/"
        },
        "id": "qjiMQVbPBPLk",
        "outputId": "4b8345eb-54cf-4b96-b924-d50bc5f3a1d6"
      },
      "source": [
        "from google.colab import drive\n",
        "drive.mount('/content/gdrive')"
      ],
      "execution_count": 2,
      "outputs": [
        {
          "output_type": "stream",
          "text": [
            "Drive already mounted at /content/gdrive; to attempt to forcibly remount, call drive.mount(\"/content/gdrive\", force_remount=True).\n"
          ],
          "name": "stdout"
        }
      ]
    },
    {
      "cell_type": "code",
      "metadata": {
        "id": "tQ0L64draHcV"
      },
      "source": [
        "df = pd.read_csv('/content/gdrive/My Drive/ProjectData/10_features_in_one_row.csv')\n",
        "\n",
        "# Drop rows with NA values\n",
        "df = df.dropna(axis = 0)\n",
        "\n",
        "# Divide dataset into input features, output labels\n",
        "X, y = df.drop(['Unnamed: 0', 'DrivingStyle', 'DriverID'], axis = 1), df['DrivingStyle']\n",
        "#X, y = df.drop(['DrivingStyle', 'DriverID'], axis = 1), df['DrivingStyle']\n",
        "\n",
        "# encoding categorical values\n",
        "X = pd.get_dummies(X)\n",
        "\n",
        "scaler = StandardScaler()\n",
        "scaler.fit(X)\n",
        "X = scaler.transform(X)\n",
        "\n",
        "# split dataset into train & test\n",
        "X_train, X_test, y_train, y_test = train_test_split(X, y, test_size=0.80, shuffle = True, random_state=42)"
      ],
      "execution_count": null,
      "outputs": []
    },
    {
      "cell_type": "code",
      "metadata": {
        "colab": {
          "base_uri": "https://localhost:8080/"
        },
        "id": "OplI2ykRrjes",
        "outputId": "9eaeb68b-38e1-42a6-8492-4ce388719838"
      },
      "source": [
        "#parameter selection\n",
        "penalty=['l1','l2','elasticnet']\n",
        "solver=['newton-cg','lbfgs','liblinear','sag','saga']\n",
        "max_iter=[n for n in range(100,1000,100)]\n",
        "param_grid={\n",
        "    'penalty':penalty,\n",
        "    'solver':solver,\n",
        "    'max_iter':max_iter\n",
        "}\n",
        "print(param_grid)"
      ],
      "execution_count": null,
      "outputs": [
        {
          "output_type": "stream",
          "text": [
            "{'penalty': ['l1', 'l2', 'elasticnet'], 'solver': ['newton-cg', 'lbfgs', 'liblinear', 'sag', 'saga'], 'max_iter': [100, 200, 300, 400, 500, 600, 700, 800, 900]}\n"
          ],
          "name": "stdout"
        }
      ]
    },
    {
      "cell_type": "code",
      "metadata": {
        "id": "P5qujE9jbFDX",
        "colab": {
          "base_uri": "https://localhost:8080/"
        },
        "outputId": "f42491cb-1558-47a7-e40b-41f5744d765f"
      },
      "source": [
        "#print(X_train.shape)\n",
        "logreg=LogisticRegression()\n",
        "Grid_log_reg=GridSearchCV(estimator=logreg,param_grid=param_grid,cv=3,n_jobs=10,verbose=2)\n",
        "Grid_log_reg.fit(X_train,y_train)\n",
        "y_pred=Grid_log_reg.predict(X_test)"
      ],
      "execution_count": null,
      "outputs": [
        {
          "output_type": "stream",
          "text": [
            "Fitting 3 folds for each of 135 candidates, totalling 405 fits\n"
          ],
          "name": "stdout"
        },
        {
          "output_type": "stream",
          "text": [
            "[Parallel(n_jobs=10)]: Using backend LokyBackend with 10 concurrent workers.\n",
            "[Parallel(n_jobs=10)]: Done  21 tasks      | elapsed:  1.2min\n",
            "[Parallel(n_jobs=10)]: Done 142 tasks      | elapsed:  6.1min\n",
            "[Parallel(n_jobs=10)]: Done 345 tasks      | elapsed: 24.1min\n",
            "[Parallel(n_jobs=10)]: Done 405 out of 405 | elapsed: 33.1min finished\n",
            "/usr/local/lib/python3.6/dist-packages/sklearn/linear_model/_sag.py:330: ConvergenceWarning: The max_iter was reached which means the coef_ did not converge\n",
            "  \"the coef_ did not converge\", ConvergenceWarning)\n"
          ],
          "name": "stderr"
        }
      ]
    },
    {
      "cell_type": "code",
      "metadata": {
        "colab": {
          "base_uri": "https://localhost:8080/"
        },
        "id": "tiRAPqnq9AAC",
        "outputId": "dc5c341d-e801-4032-ff55-a6a85b13b593"
      },
      "source": [
        "print(Grid_log_reg.best_estimator_)\n",
        "error=Grid_log_reg.best_score_\n",
        "print(error)"
      ],
      "execution_count": null,
      "outputs": [
        {
          "output_type": "stream",
          "text": [
            "LogisticRegression(C=1.0, class_weight=None, dual=False, fit_intercept=True,\n",
            "                   intercept_scaling=1, l1_ratio=None, max_iter=100,\n",
            "                   multi_class='auto', n_jobs=None, penalty='l1',\n",
            "                   random_state=None, solver='saga', tol=0.0001, verbose=0,\n",
            "                   warm_start=False)\n",
            "0.6173626938861565\n"
          ],
          "name": "stdout"
        }
      ]
    }
  ]
}